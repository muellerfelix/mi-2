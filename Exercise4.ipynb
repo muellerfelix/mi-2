{
 "cells": [
  {
   "cell_type": "markdown",
   "metadata": {},
   "source": [
    "# a.Create a toy dataset of 2-dimensional data points\n"
   ]
  },
  {
   "cell_type": "code",
   "execution_count": 1,
   "metadata": {
    "collapsed": true
   },
   "outputs": [],
   "source": [
    "import numpy as np\n",
    "from scipy.spatial.distance import pdist, squareform\n",
    "from scipy import exp\n",
    "from scipy.linalg import eigh\n"
   ]
  },
  {
   "cell_type": "code",
   "execution_count": 10,
   "metadata": {
    "collapsed": false
   },
   "outputs": [
    {
     "name": "stdout",
     "output_type": "stream",
     "text": [
      "(90L, 2L)\n"
     ]
    }
   ],
   "source": [
    "sigma=0.01\n",
    "mu1=np.array([-0.5,-0.2])\n",
    "mu2=np.array([0,0.2])\n",
    "mu3=np.array([0.5,0])\n",
    "X1=np.random.normal(mu1,sigma,size=(30,2))\n",
    "X2=np.random.normal(mu2,sigma,size=(30,2))\n",
    "X3=np.random.normal(mu3,sigma,size=(30,2))\n",
    "X=np.append(np.append(X1,X2,axis=0),X3,axis=0)\n",
    "print(np.shape(X))"
   ]
  },
  {
   "cell_type": "markdown",
   "metadata": {},
   "source": [
    "# b.Apply a Kernel PCA using the RBF kernel "
   ]
  },
  {
   "cell_type": "code",
   "execution_count": 17,
   "metadata": {
    "collapsed": false
   },
   "outputs": [],
   "source": [
    "def pca_kernel(X,sigma,n_components):\n",
    "    gamma=1/(2*sigma**2)\n",
    "    sq_dists = pdist(X, 'sqeuclidean')\n",
    "    mat_sq_dists = squareform(sq_dists)\n",
    "    K = exp(-gamma * mat_sq_dists)\n",
    "    # Centering the symmetric NxN kernel matrix.\n",
    "    N = K.shape[0]\n",
    "    one_n = np.ones((N,N)) / N\n",
    "    K = K - one_n.dot(K) - K.dot(one_n) + one_n.dot(K).dot(one_n)\n",
    "\n",
    "    # Obtaining eigenvalues in descending order with corresponding eigenvectors from the symmetric matrix.\n",
    "    eigvals, eigvecs = eigh(K)\n",
    "    # Obtaining the i eigenvectors that corresponds to the i highest eigenvalues.\n",
    "    X_pc = np.column_stack((eigvecs[:,-i] for i in range(1,n_components+1)))\n",
    "    return eigvals,X_pc"
   ]
  },
  {
   "cell_type": "markdown",
   "metadata": {},
   "source": [
    "# c.Visualize the first 8 PCs in the 2-dimensional input space"
   ]
  },
  {
   "cell_type": "code",
   "execution_count": null,
   "metadata": {
    "collapsed": false
   },
   "outputs": [],
   "source": []
  }
 ],
 "metadata": {
  "anaconda-cloud": {},
  "kernelspec": {
   "display_name": "Python [conda root]",
   "language": "python",
   "name": "conda-root-py"
  },
  "language_info": {
   "codemirror_mode": {
    "name": "ipython",
    "version": 2
   },
   "file_extension": ".py",
   "mimetype": "text/x-python",
   "name": "python",
   "nbconvert_exporter": "python",
   "pygments_lexer": "ipython2",
   "version": "2.7.12"
  }
 },
 "nbformat": 4,
 "nbformat_minor": 1
}

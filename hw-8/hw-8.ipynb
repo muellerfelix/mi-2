{
 "cells": [
  {
   "cell_type": "markdown",
   "metadata": {},
   "source": [
    "# 8.1 Simulated Annealing (5 points)"
   ]
  },
  {
   "cell_type": "code",
   "execution_count": null,
   "metadata": {
    "collapsed": true
   },
   "outputs": [],
   "source": [
    "import numpy as np\n",
    "import matplotlib.pyplot as plt"
   ]
  },
  {
   "cell_type": "code",
   "execution_count": null,
   "metadata": {
    "collapsed": true
   },
   "outputs": [],
   "source": [
    "# Initialization\n",
    "\n",
    "# Parameters\n",
    "bs = [0.05, 0.02]\n",
    "l = 1.1\n",
    "tmax = 50\n",
    "M = 10 # try also 500\n",
    "N = 6\n",
    "\n",
    "# random parameters\n",
    "s_sa = np.random.choice([-1,1],N)\n",
    "W = np.random.rand(6,6)\n",
    "for i in range(0,N):\n",
    "    W[i,i] = 0\n",
    "    \n",
    "# Make W symmetric\n",
    "W = (W + W.T)/2\n",
    "\n",
    "# function"
   ]
  },
  {
   "cell_type": "code",
   "execution_count": null,
   "metadata": {
    "collapsed": true
   },
   "outputs": [],
   "source": [
    "beta = np.zeros(tmax)\n",
    "energy = np.zeros(tmax)\n",
    "probabilities = {}"
   ]
  },
  {
   "cell_type": "code",
   "execution_count": null,
   "metadata": {
    "collapsed": true
   },
   "outputs": [],
   "source": [
    "def compute_energy(s,W):\n",
    "    energy = 0\n",
    "    for i in range(0,N):\n",
    "        for j in range(0,N):\n",
    "            energy = energy + W[i,j]*s[i]*s[j]\n",
    "    return -0.5*energy"
   ]
  },
  {
   "cell_type": "code",
   "execution_count": null,
   "metadata": {},
   "outputs": [],
   "source": [
    "for orig_b in bs:\n",
    "    b = orig_b\n",
    "    for t in range(0,tmax):\n",
    "        for m in range(0,M):\n",
    "            # select random node\n",
    "            i = np.random.choice(N,1)\n",
    "            e = 0\n",
    "            for j in range(0,N):\n",
    "                if j!=i:\n",
    "                    e = e + W[i,j]*s_sa[i]*s_sa[j]\n",
    "            e = -0.5*e\n",
    "            delta_e = -2*e\n",
    "            if 1/(1+np.exp(b*delta_e) > 0.5):\n",
    "                s_sa[i] = s_sa[i]*-1\n",
    "            energy[t] = compute_energy(s_sa, W)\n",
    "        beta[t] = b\n",
    "        b = l*b\n",
    "    probabilities[orig_b] = np.exp(-b * energy[tmax-1])\n",
    "    \n",
    "print(s_sa)"
   ]
  },
  {
   "cell_type": "code",
   "execution_count": null,
   "metadata": {
    "scrolled": false
   },
   "outputs": [],
   "source": [
    "# Plot Temperature and Energy over time\n",
    "\n",
    "T = 1./beta\n",
    "\n",
    "plt.figure(figsize=(15,8))\n",
    "\n",
    "plt.plot(T, label=\"Temperature\")\n",
    "plt.ylabel(\"Temperature\")\n",
    "plt.xlabel(\"Iterations\")\n",
    "plt.show()\n",
    "\n",
    "plt.figure()\n",
    "plt.plot(energy, label=\"Energy\")\n",
    "plt.ylabel(\"Energy\")\n",
    "plt.xlabel(\"Iterations\")\n",
    "plt.show()"
   ]
  },
  {
   "cell_type": "code",
   "execution_count": null,
   "metadata": {},
   "outputs": [],
   "source": [
    "# Plot Energy for all State Combinations\n",
    "\n",
    "state_energies = []\n",
    "\n",
    "def state_combinations(n):\n",
    "    if n == 1:\n",
    "        return [[-1], [1]]\n",
    "    else:\n",
    "        res = []\n",
    "        for sc in state_combinations(n-1):\n",
    "            res.append(sc + [-1])\n",
    "            res.append(sc + [1])\n",
    "        return res\n",
    "\n",
    "Zs = {b: 0 for b in bs}\n",
    "for sc in state_combinations(6):\n",
    "    sc = np.array(sc)\n",
    "    sc_i = sc[:, np.newaxis]\n",
    "    sc_j = sc[np.newaxis, :]\n",
    "    energy = np.sum(-0.5 * sc_i * sc_j * W)\n",
    "    \n",
    "    state_energies.append(energy)\n",
    "    \n",
    "    for b in bs:\n",
    "        Zs[b] += np.exp(-b*energy)\n",
    "\n",
    "plt.bar(np.arange(len(state_energies)), state_energies)\n",
    "plt.ylabel(\"Energy\")\n",
    "plt.xlabel(\"State\")\n",
    "plt.show()"
   ]
  },
  {
   "cell_type": "code",
   "execution_count": null,
   "metadata": {
    "scrolled": true
   },
   "outputs": [],
   "source": [
    "# Plot probabilities for different b's\n",
    "\n",
    "for b in bs:\n",
    "    probabilities[b] = probabilities[b] / Zs[b]\n",
    "\n",
    "plt.figure()\n",
    "plt.bar(range(len(probabilities)), probabilities.values(), align='center')\n",
    "plt.xticks(range(len(probabilities)), probabilities.keys())\n",
    "\n",
    "plt.show()"
   ]
  },
  {
   "cell_type": "code",
   "execution_count": null,
   "metadata": {},
   "outputs": [],
   "source": [
    "probabilities"
   ]
  },
  {
   "cell_type": "markdown",
   "metadata": {},
   "source": [
    "## 8.2"
   ]
  },
  {
   "cell_type": "code",
   "execution_count": null,
   "metadata": {
    "scrolled": false
   },
   "outputs": [],
   "source": [
    "# Initialization\n",
    "\n",
    "b = 0.05\n",
    "l = 1.1\n",
    "tmax = 50\n",
    "\n",
    "eta = 0.01\n",
    "\n",
    "s_mfa = np.random.choice([-1, 1], 6)\n",
    "\n",
    "#print(\"s before\", s_mfa)\n",
    "\n",
    "\n",
    "beta = np.zeros(tmax)\n",
    "energy = np.zeros(tmax)\n",
    "\n",
    "for t in range(tmax):\n",
    "    step = 0\n",
    "    e_old = np.zeros(N)\n",
    "    e_new = np.zeros(N)\n",
    "    print(\"s\", s_mfa)\n",
    "    while True:\n",
    "        #print(\"e_old at start\", e_old)\n",
    "        for i in range(N):\n",
    "            e_new[i] = 0\n",
    "            for j in range(N):\n",
    "                if i != j:\n",
    "                    e_new[i] -= W[i, j] * s_mfa[j]\n",
    "            new_s_i = -1 if np.tanh(-b*e_new[i]) > 0 else 1\n",
    "            if s_mfa[i] != new_s_i:\n",
    "                print(\"state changed\")\n",
    "            s_mfa[i] = new_s_i\n",
    "        \n",
    "        if np.linalg.norm(e_new - e_old) < eta:\n",
    "            print(\"breaking at step \", step)\n",
    "            #print(\"norm\", np.linalg.norm(e_new - e_old))\n",
    "            #print(\"e_old\", e_old)\n",
    "            #print(\"e_new\", e_new)\n",
    "            break\n",
    "        else:\n",
    "            #print(np.linalg.norm(e_new - e_old))\n",
    "            #print(\"e_old\", e_old)\n",
    "            #print(\"e_new\", e_new)\n",
    "            step += 1\n",
    "            e_old = np.copy(e_new)\n",
    "    energy[t] = compute_energy(s_mfa, W)\n",
    "    beta[t] = b\n",
    "    b = l * b"
   ]
  },
  {
   "cell_type": "code",
   "execution_count": null,
   "metadata": {},
   "outputs": [],
   "source": [
    " # Plot Temperature and Energy over time\n",
    "\n",
    "T = 1./beta\n",
    "\n",
    "plt.figure(figsize=(10,5))\n",
    "\n",
    "plt.subplot(121)\n",
    "plt.plot(T, label=\"Temperature\")\n",
    "plt.ylabel(\"Temperature\")\n",
    "plt.xlabel(\"Iterations\")\n",
    "plt.show()\n",
    "\n",
    "plt.subplot(122)\n",
    "plt.plot(energy, label=\"Energy\")\n",
    "plt.ylabel(\"Energy\")\n",
    "plt.xlabel(\"Iterations\")\n",
    "plt.show()"
   ]
  },
  {
   "cell_type": "code",
   "execution_count": null,
   "metadata": {},
   "outputs": [],
   "source": [
    "print(s_sa)\n",
    "print(s_mfa)"
   ]
  },
  {
   "cell_type": "code",
   "execution_count": null,
   "metadata": {
    "collapsed": true
   },
   "outputs": [],
   "source": []
  }
 ],
 "metadata": {
  "kernelspec": {
   "display_name": "Python 3",
   "language": "python",
   "name": "python3"
  },
  "language_info": {
   "codemirror_mode": {
    "name": "ipython",
    "version": 3
   },
   "file_extension": ".py",
   "mimetype": "text/x-python",
   "name": "python",
   "nbconvert_exporter": "python",
   "pygments_lexer": "ipython3",
   "version": "3.6.1"
  }
 },
 "nbformat": 4,
 "nbformat_minor": 2
}

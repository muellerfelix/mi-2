{
 "cells": [
  {
   "cell_type": "markdown",
   "metadata": {},
   "source": [
    "# 8.1 Simulated Annealing (5 points)"
   ]
  },
  {
   "cell_type": "code",
   "execution_count": 46,
   "metadata": {
    "collapsed": true
   },
   "outputs": [],
   "source": [
    "import numpy as np\n",
    "import matplotlib.pyplot as plt"
   ]
  },
  {
   "cell_type": "code",
   "execution_count": 52,
   "metadata": {
    "collapsed": false
   },
   "outputs": [],
   "source": [
    "# Intizialisation\n",
    "\n",
    "# Parameters\n",
    "b = 0.05\n",
    "l = 1.1\n",
    "tmax = 50\n",
    "M = 1 # try also 500\n",
    "N = 6\n",
    "\n",
    "# random parameters\n",
    "s = np.random.choice([-1,1],N)\n",
    "W = np.random.rand(6,6)\n",
    "for i in range(0,N):\n",
    "    W[i,i] = 0\n",
    "\n",
    "# function"
   ]
  },
  {
   "cell_type": "code",
   "execution_count": 36,
   "metadata": {
    "collapsed": false
   },
   "outputs": [],
   "source": [
    "beta = np.zeros(tmax)\n",
    "energy = np.zeros(tmax)"
   ]
  },
  {
   "cell_type": "code",
   "execution_count": 55,
   "metadata": {
    "collapsed": false
   },
   "outputs": [],
   "source": [
    "\n",
    "for t in range(0,tmax):\n",
    "    for m in range(1,M):\n",
    "        # select random node\n",
    "        i = np.random.choice(N,1)\n",
    "        e = 0\n",
    "        for j in range(0,N):\n",
    "            if j!=i:\n",
    "                e = e + w[i,j]*s[i]*s[j]\n",
    "        e = -0.5*e\n",
    "        delta_e = -2*e\n",
    "        if 1/(1+np.exp(b*delta_e) > 0.5):\n",
    "            e = e*-1\n",
    "    beta[t] = b\n",
    "    b = l*b"
   ]
  },
  {
   "cell_type": "code",
   "execution_count": 54,
   "metadata": {
    "collapsed": false
   },
   "outputs": [
    {
     "data": {
      "image/png": "[encoded data removed]",
      "text/plain": [
       "<matplotlib.figure.Figure at 0x104fbda90>"
      ]
     },
     "metadata": {},
     "output_type": "display_data"
    }
   ],
   "source": [
    "T = 1./beta\n",
    "plt.plot(T)\n",
    "plt.xlabel(\"iterations\")\n",
    "plt.show()"
   ]
  },
  {
   "cell_type": "code",
   "execution_count": null,
   "metadata": {
    "collapsed": true
   },
   "outputs": [],
   "source": [
    "# Plotting"
   ]
  }
 ],
 "metadata": {
  "kernelspec": {
   "display_name": "Python 3",
   "language": "python",
   "name": "python3"
  },
  "language_info": {
   "codemirror_mode": {
    "name": "ipython",
    "version": 3
   },
   "file_extension": ".py",
   "mimetype": "text/x-python",
   "name": "python",
   "nbconvert_exporter": "python",
   "pygments_lexer": "ipython3",
   "version": "3.6.0"
  }
 },
 "nbformat": 4,
 "nbformat_minor": 2
}

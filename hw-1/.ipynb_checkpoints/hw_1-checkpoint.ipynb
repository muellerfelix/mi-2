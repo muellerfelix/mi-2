{
 "cells": [
  {
   "cell_type": "code",
   "execution_count": 2,
   "metadata": {
    "collapsed": true
   },
   "outputs": [],
   "source": [
    "% matplotlib inline\n",
    "\n",
    "import numpy as np\n",
    "import scipy as sp\n",
    "import math\n",
    "import scipy.stats as scp\n",
    "import matplotlib as mpl"
   ]
  },
  {
   "cell_type": "code",
   "execution_count": 5,
   "metadata": {
    "collapsed": false
   },
   "outputs": [],
   "source": [
    "# load data\n",
    "Data = np.genfromtxt(\"expDat.txt\", delimiter=',', skip_header=True,dtype='float')"
   ]
  },
  {
   "cell_type": "code",
   "execution_count": 22,
   "metadata": {
    "collapsed": false
   },
   "outputs": [
    {
     "name": "stdout",
     "output_type": "stream",
     "text": [
      "[[ nan   1.   0. ...,   4.   2.   1.]\n",
      " [ nan   2.   2. ...,   1.   1.   2.]\n",
      " [ nan   3.   2. ...,   1.   1.   3.]\n",
      " ..., \n",
      " [ nan   1.   3. ...,   3.   2.   1.]\n",
      " [ nan   2.   1. ...,   2.   2.   5.]\n",
      " [ nan   2.   2. ...,   0.   3.   1.]]\n",
      "[[ 1.  0.  0. ...,  4.  2.  1.]\n",
      " [ 2.  2.  2. ...,  1.  1.  2.]\n",
      " [ 3.  2.  3. ...,  1.  1.  3.]\n",
      " ..., \n",
      " [ 1.  3.  2. ...,  3.  2.  1.]\n",
      " [ 2.  1.  3. ...,  2.  2.  5.]\n",
      " [ 2.  2.  3. ...,  0.  3.  1.]]\n"
     ]
    }
   ],
   "source": [
    "# skip first row (\"1\",\"2\",..)\n",
    "X = Data[:,1:]\n",
    "\n"
   ]
  }
 ],
 "metadata": {
  "kernelspec": {
   "display_name": "Python 2",
   "language": "python",
   "name": "python2"
  },
  "language_info": {
   "codemirror_mode": {
    "name": "ipython",
    "version": 2
   },
   "file_extension": ".py",
   "mimetype": "text/x-python",
   "name": "python",
   "nbconvert_exporter": "python",
   "pygments_lexer": "ipython2",
   "version": "2.7.13"
  }
 },
 "nbformat": 4,
 "nbformat_minor": 2
}
